{
  "nbformat": 4,
  "nbformat_minor": 0,
  "metadata": {
    "colab": {
      "name": "UnsupervisedLearning.ipynb",
      "provenance": [],
      "authorship_tag": "ABX9TyOM+MG00L30fqluqkK1eEyd",
      "include_colab_link": true
    },
    "kernelspec": {
      "name": "python3",
      "display_name": "Python 3"
    },
    "language_info": {
      "name": "python"
    }
  },
  "cells": [
    {
      "cell_type": "markdown",
      "metadata": {
        "id": "view-in-github",
        "colab_type": "text"
      },
      "source": [
        "<a href=\"https://colab.research.google.com/github/s20033/MIW_projects/blob/main/UnsupervisedLearning.ipynb\" target=\"_parent\"><img src=\"https://colab.research.google.com/assets/colab-badge.svg\" alt=\"Open In Colab\"/></a>"
      ]
    },
    {
      "cell_type": "code",
      "execution_count": 2,
      "metadata": {
        "id": "ckvNPV_0eyJi"
      },
      "outputs": [],
      "source": [
        "# importing necessary libraries\n",
        "from keras import layers\n",
        "from keras import models\n",
        "from keras.models import Sequential\n",
        "from keras.datasets import mnist\n",
        "import numpy as np\n",
        "import matplotlib.pyplot as plt\n",
        "\n",
        "import tensorflow as tf\n",
        "from tensorflow import keras\n"
      ]
    },
    {
      "cell_type": "code",
      "source": [
        "# create a model\n",
        "def create_model(input_shape):\n",
        "    model = models.Sequential()\n",
        "    model.add(layers.Conv2D(16, (3, 3), padding='same', activation='relu', input_shape=input_shape))\n",
        "    model.add(layers.MaxPooling2D((2, 2)))\n",
        "    model.add(layers.Conv2D(8, (3, 3), padding='same', activation='relu'))\n",
        "    model.add(layers.MaxPooling2D((2, 2)))\n",
        "    model.add(layers.Conv2D(4, (3, 3), padding='same', activation='relu'))\n",
        "    model.add(layers.UpSampling2D((2,2)))\n",
        "    model.add(layers.Conv2DTranspose(8, (3, 3), padding='same', activation='relu'))\n",
        "    model.add(layers.UpSampling2D((2,2)))\n",
        "    model.add(layers.Conv2DTranspose(16, (3, 3), padding='same', activation='relu'))\n",
        "    model.compile(optimizer='Adam', loss='categorical_crossentropy')\n",
        "    model.summary()\n",
        "    return model"
      ],
      "metadata": {
        "id": "uFSmq1e5fQaf"
      },
      "execution_count": 3,
      "outputs": []
    },
    {
      "cell_type": "code",
      "source": [
        "# Data preparation\n",
        "(train_images, train_labels), (test_images, test_labels) = mnist.load_data()\n",
        "train_images = train_images.reshape((60000, 28, 28, 1))\n",
        "train_images = train_images.astype('float32') / 255\n",
        "test_images = test_images.reshape((10000, 28, 28, 1))\n",
        "test_images = test_images.astype('float32') / 255\n"
      ],
      "metadata": {
        "id": "j1dzpm5_fR5A",
        "colab": {
          "base_uri": "https://localhost:8080/"
        },
        "outputId": "aca4e0b3-67cd-4cde-f60d-e3f23691fb6c"
      },
      "execution_count": 4,
      "outputs": [
        {
          "output_type": "stream",
          "name": "stdout",
          "text": [
            "Downloading data from https://storage.googleapis.com/tensorflow/tf-keras-datasets/mnist.npz\n",
            "11493376/11490434 [==============================] - 0s 0us/step\n",
            "11501568/11490434 [==============================] - 0s 0us/step\n"
          ]
        }
      ]
    },
    {
      "cell_type": "code",
      "source": [
        "# compile and save model\n",
        "model = create_model(input_shape=(28, 28, 1))\n",
        "model.compile(optimizer='adam', loss='binary_crossentropy')\n",
        "model.fit(train_images, train_images, epochs = 1, batch_size=64)\n",
        "model.save_weights('weight.h5')"
      ],
      "metadata": {
        "colab": {
          "base_uri": "https://localhost:8080/"
        },
        "id": "ACqs922rfcOl",
        "outputId": "55da7f28-63f9-48c3-c289-9d29e566d167"
      },
      "execution_count": 5,
      "outputs": [
        {
          "output_type": "stream",
          "name": "stdout",
          "text": [
            "Model: \"sequential\"\n",
            "_________________________________________________________________\n",
            " Layer (type)                Output Shape              Param #   \n",
            "=================================================================\n",
            " conv2d (Conv2D)             (None, 28, 28, 16)        160       \n",
            "                                                                 \n",
            " max_pooling2d (MaxPooling2D  (None, 14, 14, 16)       0         \n",
            " )                                                               \n",
            "                                                                 \n",
            " conv2d_1 (Conv2D)           (None, 14, 14, 8)         1160      \n",
            "                                                                 \n",
            " max_pooling2d_1 (MaxPooling  (None, 7, 7, 8)          0         \n",
            " 2D)                                                             \n",
            "                                                                 \n",
            " conv2d_2 (Conv2D)           (None, 7, 7, 4)           292       \n",
            "                                                                 \n",
            " up_sampling2d (UpSampling2D  (None, 14, 14, 4)        0         \n",
            " )                                                               \n",
            "                                                                 \n",
            " conv2d_transpose (Conv2DTra  (None, 14, 14, 8)        296       \n",
            " nspose)                                                         \n",
            "                                                                 \n",
            " up_sampling2d_1 (UpSampling  (None, 28, 28, 8)        0         \n",
            " 2D)                                                             \n",
            "                                                                 \n",
            " conv2d_transpose_1 (Conv2DT  (None, 28, 28, 16)       1168      \n",
            " ranspose)                                                       \n",
            "                                                                 \n",
            "=================================================================\n",
            "Total params: 3,076\n",
            "Trainable params: 3,076\n",
            "Non-trainable params: 0\n",
            "_________________________________________________________________\n",
            "938/938 [==============================] - 98s 103ms/step - loss: 0.1990\n"
          ]
        }
      ]
    },
    {
      "cell_type": "code",
      "source": [
        "model1 = create_model(input_shape=(28, 28, 1))\n",
        "model1.load_weights('weight.h5')\n",
        "model1.pop()\n",
        "model1.pop()\n",
        "model1.pop()\n",
        "model1.pop()\n",
        "model1.summary()"
      ],
      "metadata": {
        "colab": {
          "base_uri": "https://localhost:8080/"
        },
        "id": "08lUTUJafqr4",
        "outputId": "53ced2dc-c49a-4a31-f158-2538a59e8494"
      },
      "execution_count": 6,
      "outputs": [
        {
          "output_type": "stream",
          "name": "stdout",
          "text": [
            "Model: \"sequential_1\"\n",
            "_________________________________________________________________\n",
            " Layer (type)                Output Shape              Param #   \n",
            "=================================================================\n",
            " conv2d_3 (Conv2D)           (None, 28, 28, 16)        160       \n",
            "                                                                 \n",
            " max_pooling2d_2 (MaxPooling  (None, 14, 14, 16)       0         \n",
            " 2D)                                                             \n",
            "                                                                 \n",
            " conv2d_4 (Conv2D)           (None, 14, 14, 8)         1160      \n",
            "                                                                 \n",
            " max_pooling2d_3 (MaxPooling  (None, 7, 7, 8)          0         \n",
            " 2D)                                                             \n",
            "                                                                 \n",
            " conv2d_5 (Conv2D)           (None, 7, 7, 4)           292       \n",
            "                                                                 \n",
            " up_sampling2d_2 (UpSampling  (None, 14, 14, 4)        0         \n",
            " 2D)                                                             \n",
            "                                                                 \n",
            " conv2d_transpose_2 (Conv2DT  (None, 14, 14, 8)        296       \n",
            " ranspose)                                                       \n",
            "                                                                 \n",
            " up_sampling2d_3 (UpSampling  (None, 28, 28, 8)        0         \n",
            " 2D)                                                             \n",
            "                                                                 \n",
            " conv2d_transpose_3 (Conv2DT  (None, 28, 28, 16)       1168      \n",
            " ranspose)                                                       \n",
            "                                                                 \n",
            "=================================================================\n",
            "Total params: 3,076\n",
            "Trainable params: 3,076\n",
            "Non-trainable params: 0\n",
            "_________________________________________________________________\n",
            "Model: \"sequential_1\"\n",
            "_________________________________________________________________\n",
            " Layer (type)                Output Shape              Param #   \n",
            "=================================================================\n",
            " conv2d_3 (Conv2D)           (None, 28, 28, 16)        160       \n",
            "                                                                 \n",
            " max_pooling2d_2 (MaxPooling  (None, 14, 14, 16)       0         \n",
            " 2D)                                                             \n",
            "                                                                 \n",
            " conv2d_4 (Conv2D)           (None, 14, 14, 8)         1160      \n",
            "                                                                 \n",
            " max_pooling2d_3 (MaxPooling  (None, 7, 7, 8)          0         \n",
            " 2D)                                                             \n",
            "                                                                 \n",
            " conv2d_5 (Conv2D)           (None, 7, 7, 4)           292       \n",
            "                                                                 \n",
            "=================================================================\n",
            "Total params: 1,612\n",
            "Trainable params: 1,612\n",
            "Non-trainable params: 0\n",
            "_________________________________________________________________\n"
          ]
        }
      ]
    },
    {
      "cell_type": "code",
      "source": [
        "result_1 = model1.predict(train_images[:])\n",
        "\n",
        "print(result_1.shape)\n",
        "print('Result = {}'.format(result_1.shape))\n",
        "a,b,c,d = result_1.shape\n",
        "code = result_1.reshape(a, b*c*d)\n",
        "print('code = {}'.format(code.shape))\n",
        "#print(code)"
      ],
      "metadata": {
        "colab": {
          "base_uri": "https://localhost:8080/"
        },
        "id": "x3hwocv3fxEM",
        "outputId": "1728c295-8e75-40df-af84-1ee344b75763"
      },
      "execution_count": 7,
      "outputs": [
        {
          "output_type": "stream",
          "name": "stdout",
          "text": [
            "(60000, 7, 7, 4)\n",
            "Result = (60000, 7, 7, 4)\n",
            "code = (60000, 196)\n"
          ]
        }
      ]
    },
    {
      "cell_type": "code",
      "source": [
        "fig = plt.figure(figsize=(6,6))\n",
        "\n",
        "fig.add_subplot(1,2,1)\n",
        "plt.title(\"Original Image\")\n",
        "plt.imshow(train_images[0].reshape(28,28))\n",
        "plt.axis(\"off\")\n",
        "\n",
        "\n",
        "fig.add_subplot(1,2,2)\n",
        "plt.title(\"Autoencoded Image\")\n",
        "plt.imshow(result_1[0])\n",
        "plt.axis(\"off\")\n",
        "\n",
        "plt.show()"
      ],
      "metadata": {
        "colab": {
          "base_uri": "https://localhost:8080/",
          "height": 216
        },
        "id": "rcVnPPG62bzg",
        "outputId": "8fbb44ac-6703-413d-a8df-134255777dff"
      },
      "execution_count": 8,
      "outputs": [
        {
          "output_type": "stream",
          "name": "stderr",
          "text": [
            "Clipping input data to the valid range for imshow with RGB data ([0..1] for floats or [0..255] for integers).\n"
          ]
        },
        {
          "output_type": "display_data",
          "data": {
            "text/plain": [
              "<Figure size 432x432 with 2 Axes>"
            ],
            "image/png": "[encoded data removed]"
          },
          "metadata": {
            "needs_background": "light"
          }
        }
      ]
    },
    {
      "cell_type": "markdown",
      "source": [
        "#KNN classifier"
      ],
      "metadata": {
        "id": "6qHBSa3dzkJI"
      }
    },
    {
      "cell_type": "code",
      "source": [
        "from sklearn.neighbors import KNeighborsClassifier\n",
        "import time\n",
        "import seaborn as sns\n",
        "from sklearn.metrics import accuracy_score\n",
        "from sklearn.metrics import confusion_matrix\n",
        "\n",
        "\n",
        "def KNN(label,x_train,y_train,x_test,y_test):\n",
        "    \n",
        "    trainStart = time.time()\n",
        "    \n",
        "    clf = KNeighborsClassifier()\n",
        "    \n",
        "    clf.fit(x_train,y_train)\n",
        "    \n",
        "    y_pred = clf.predict(x_test)\n",
        "    \n",
        "    trainEnd = time.time()\n",
        "    \n",
        "    trainTook = round(trainEnd-trainStart,2)\n",
        "    \n",
        "    \n",
        "    testStart = time.time()\n",
        "    \n",
        "    print(\"Accuracy of {} KNN is {}\".format(label,accuracy_score(y_pred=y_pred,y_true=y_test)))\n",
        "    \n",
        "    confmatrix = confusion_matrix(y_pred=y_pred,y_true=y_test)\n",
        "    \n",
        "    plt.subplots(figsize=(6,6))\n",
        "    sns.heatmap(confmatrix,annot=True,fmt=\".1f\",linewidths=1.5)\n",
        "    plt.show()\n",
        "    \n",
        "    testEnd = time.time()\n",
        "    \n",
        "    testTook = round(testEnd-testStart,2)\n",
        "    \n",
        "    print(\"Training {} KNN took {} seconds\".format(label,trainTook))\n",
        "    print(\"Testing {} KNN took {} seconds\".format(label,testTook))\n",
        "    "
      ],
      "metadata": {
        "id": "BaGT2Ezuu96Y"
      },
      "execution_count": 30,
      "outputs": []
    },
    {
      "cell_type": "code",
      "source": [
        "result_2 = model1.predict(test_images[:,])\n",
        "a,b,c,d = result_2.shape\n",
        "code_2 = result_2.reshape(a, b*c*d)\n",
        "print(a,b,c,d)"
      ],
      "metadata": {
        "colab": {
          "base_uri": "https://localhost:8080/"
        },
        "id": "QSVc1dvU5MYw",
        "outputId": "c572ab28-40a0-4414-ed3c-3563e1a6115a"
      },
      "execution_count": 25,
      "outputs": [
        {
          "output_type": "stream",
          "name": "stdout",
          "text": [
            "10000 7 7 4\n"
          ]
        }
      ]
    },
    {
      "cell_type": "code",
      "source": [
        "print(code_2.shape)\n",
        "print(code.shape)\n",
        "test_images.shape"
      ],
      "metadata": {
        "colab": {
          "base_uri": "https://localhost:8080/"
        },
        "id": "oec0VUN45Yaz",
        "outputId": "ab17ad02-81cb-4582-9e43-8c0365f89031"
      },
      "execution_count": 16,
      "outputs": [
        {
          "output_type": "stream",
          "name": "stdout",
          "text": [
            "(10000, 196)\n",
            "(60000, 196)\n"
          ]
        },
        {
          "output_type": "execute_result",
          "data": {
            "text/plain": [
              "(10000, 28, 28, 1)"
            ]
          },
          "metadata": {},
          "execution_count": 16
        }
      ]
    },
    {
      "cell_type": "code",
      "source": [
        "x_train= train_images[:]\n",
        "x_train = x_train.reshape(60000,784)\n",
        "x_test = test_images[:]\n",
        "x_test= x_test.reshape(10000, 784)"
      ],
      "metadata": {
        "id": "J5nWSpd5IOlu"
      },
      "execution_count": 26,
      "outputs": []
    },
    {
      "cell_type": "code",
      "source": [
        "KNN(\"KNN Classifier\",code,train_labels,code_2,test_labels)"
      ],
      "metadata": {
        "colab": {
          "base_uri": "https://localhost:8080/",
          "height": 425
        },
        "id": "t23Wze161juL",
        "outputId": "49cfe165-911d-47d3-c3f0-5b3396135a1f"
      },
      "execution_count": 31,
      "outputs": [
        {
          "output_type": "stream",
          "name": "stdout",
          "text": [
            "Accuracy of KNN Classifier KNN is %0.9624\n"
          ]
        },
        {
          "output_type": "display_data",
          "data": {
            "text/plain": [
              "<Figure size 432x432 with 2 Axes>"
            ],
            "image/png": "[encoded data removed]"
          },
          "metadata": {
            "needs_background": "light"
          }
        },
        {
          "output_type": "stream",
          "name": "stdout",
          "text": [
            "Training KNN Classifier KNN took 20.5 seconds\n",
            "Testing KNN Classifier KNN took 0.66 seconds\n"
          ]
        }
      ]
    }
  ]
}